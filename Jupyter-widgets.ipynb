{
 "cells": [
  {
   "cell_type": "code",
   "execution_count": 34,
   "metadata": {},
   "outputs": [],
   "source": [
    "import ipywidgets as widgets\n",
    "from ipywidgets import interact,interactive\n",
    "import pandas as pd"
   ]
  },
  {
   "cell_type": "code",
   "execution_count": 26,
   "metadata": {},
   "outputs": [],
   "source": [
    "from IPython.display import display\n"
   ]
  },
  {
   "cell_type": "code",
   "execution_count": 27,
   "metadata": {},
   "outputs": [],
   "source": [
    "df = pd.read_csv(\"Company.csv\")"
   ]
  },
  {
   "cell_type": "code",
   "execution_count": 28,
   "metadata": {},
   "outputs": [
    {
     "data": {
      "text/html": [
       "<div>\n",
       "<style scoped>\n",
       "    .dataframe tbody tr th:only-of-type {\n",
       "        vertical-align: middle;\n",
       "    }\n",
       "\n",
       "    .dataframe tbody tr th {\n",
       "        vertical-align: top;\n",
       "    }\n",
       "\n",
       "    .dataframe thead th {\n",
       "        text-align: right;\n",
       "    }\n",
       "</style>\n",
       "<table border=\"1\" class=\"dataframe\">\n",
       "  <thead>\n",
       "    <tr style=\"text-align: right;\">\n",
       "      <th></th>\n",
       "      <th>EmployeeId</th>\n",
       "      <th>Name</th>\n",
       "      <th>WorkLocation</th>\n",
       "      <th>Salary</th>\n",
       "      <th>Age</th>\n",
       "      <th>DOJ</th>\n",
       "      <th>Designation</th>\n",
       "    </tr>\n",
       "  </thead>\n",
       "  <tbody>\n",
       "    <tr>\n",
       "      <th>0</th>\n",
       "      <td>A1001</td>\n",
       "      <td>A1001Name</td>\n",
       "      <td>HK</td>\n",
       "      <td>10000</td>\n",
       "      <td>30</td>\n",
       "      <td>2/10/2008</td>\n",
       "      <td>Developer</td>\n",
       "    </tr>\n",
       "    <tr>\n",
       "      <th>1</th>\n",
       "      <td>A1002</td>\n",
       "      <td>A1002Name</td>\n",
       "      <td>UK</td>\n",
       "      <td>20000</td>\n",
       "      <td>20</td>\n",
       "      <td>2/10/2098</td>\n",
       "      <td>Developer</td>\n",
       "    </tr>\n",
       "    <tr>\n",
       "      <th>2</th>\n",
       "      <td>A1003</td>\n",
       "      <td>A1003Name</td>\n",
       "      <td>HK</td>\n",
       "      <td>30000</td>\n",
       "      <td>30</td>\n",
       "      <td>2/10/2008</td>\n",
       "      <td>Manager</td>\n",
       "    </tr>\n",
       "    <tr>\n",
       "      <th>3</th>\n",
       "      <td>A1004</td>\n",
       "      <td>A1004Name</td>\n",
       "      <td>IND</td>\n",
       "      <td>10000</td>\n",
       "      <td>32</td>\n",
       "      <td>2/10/2010</td>\n",
       "      <td>Developer</td>\n",
       "    </tr>\n",
       "    <tr>\n",
       "      <th>4</th>\n",
       "      <td>A1005</td>\n",
       "      <td>A1005Name</td>\n",
       "      <td>IND</td>\n",
       "      <td>20000</td>\n",
       "      <td>28</td>\n",
       "      <td>2/2/2008</td>\n",
       "      <td>Manager</td>\n",
       "    </tr>\n",
       "    <tr>\n",
       "      <th>5</th>\n",
       "      <td>A1006</td>\n",
       "      <td>A1006Name</td>\n",
       "      <td>UK</td>\n",
       "      <td>30000</td>\n",
       "      <td>30</td>\n",
       "      <td>2/10/2008</td>\n",
       "      <td>Developer</td>\n",
       "    </tr>\n",
       "    <tr>\n",
       "      <th>6</th>\n",
       "      <td>A1007</td>\n",
       "      <td>A1007Name</td>\n",
       "      <td>IND</td>\n",
       "      <td>40000</td>\n",
       "      <td>40</td>\n",
       "      <td>15/2/2008</td>\n",
       "      <td>Manager</td>\n",
       "    </tr>\n",
       "    <tr>\n",
       "      <th>7</th>\n",
       "      <td>A1008</td>\n",
       "      <td>A1008Name</td>\n",
       "      <td>HK</td>\n",
       "      <td>50000</td>\n",
       "      <td>50</td>\n",
       "      <td>2/10/2017</td>\n",
       "      <td>Manager</td>\n",
       "    </tr>\n",
       "    <tr>\n",
       "      <th>8</th>\n",
       "      <td>A1009</td>\n",
       "      <td>A1009Name</td>\n",
       "      <td>UK</td>\n",
       "      <td>45000</td>\n",
       "      <td>45</td>\n",
       "      <td>2/10/2017</td>\n",
       "      <td>Developer</td>\n",
       "    </tr>\n",
       "    <tr>\n",
       "      <th>9</th>\n",
       "      <td>A1010</td>\n",
       "      <td>A10010Name</td>\n",
       "      <td>UK</td>\n",
       "      <td>50000</td>\n",
       "      <td>50</td>\n",
       "      <td>2/10/2017</td>\n",
       "      <td>Developer</td>\n",
       "    </tr>\n",
       "  </tbody>\n",
       "</table>\n",
       "</div>"
      ],
      "text/plain": [
       "  EmployeeId        Name WorkLocation  Salary  Age        DOJ Designation\n",
       "0      A1001   A1001Name           HK   10000   30  2/10/2008   Developer\n",
       "1      A1002   A1002Name           UK   20000   20  2/10/2098   Developer\n",
       "2      A1003   A1003Name           HK   30000   30  2/10/2008     Manager\n",
       "3      A1004   A1004Name          IND   10000   32  2/10/2010   Developer\n",
       "4      A1005   A1005Name          IND   20000   28   2/2/2008     Manager\n",
       "5      A1006   A1006Name           UK   30000   30  2/10/2008   Developer\n",
       "6      A1007   A1007Name          IND   40000   40  15/2/2008     Manager\n",
       "7      A1008   A1008Name           HK   50000   50  2/10/2017     Manager\n",
       "8      A1009   A1009Name           UK   45000   45  2/10/2017   Developer\n",
       "9      A1010  A10010Name           UK   50000   50  2/10/2017   Developer"
      ]
     },
     "execution_count": 28,
     "metadata": {},
     "output_type": "execute_result"
    }
   ],
   "source": [
    "df"
   ]
  },
  {
   "cell_type": "code",
   "execution_count": 29,
   "metadata": {},
   "outputs": [],
   "source": [
    "items = [\"All\"] + sorted(df['WorkLocation'].unique().tolist())"
   ]
  },
  {
   "cell_type": "code",
   "execution_count": 30,
   "metadata": {},
   "outputs": [
    {
     "data": {
      "text/plain": [
       "['All', 'HK', 'IND', 'UK']"
      ]
     },
     "execution_count": 30,
     "metadata": {},
     "output_type": "execute_result"
    }
   ],
   "source": [
    "items"
   ]
  },
  {
   "cell_type": "code",
   "execution_count": 31,
   "metadata": {},
   "outputs": [],
   "source": [
    "def view(x=''):\n",
    "    if x=='All': return df\n",
    "    return df[df[\"WorkLocation\"]==x]"
   ]
  },
  {
   "cell_type": "code",
   "execution_count": 38,
   "metadata": {},
   "outputs": [
    {
     "data": {
      "application/vnd.jupyter.widget-view+json": {
       "model_id": "651171b618e14a2da1aba4049bdb6940",
       "version_major": 2,
       "version_minor": 0
      },
      "text/plain": [
       "interactive(children=(Select(description='x', options=('All', 'HK', 'IND', 'UK'), value='All'), Output()), _do…"
      ]
     },
     "metadata": {},
     "output_type": "display_data"
    }
   ],
   "source": [
    "w = widgets.Select(options=items)\n",
    "x = interact(view,x=w)"
   ]
  },
  {
   "cell_type": "code",
   "execution_count": 37,
   "metadata": {},
   "outputs": [
    {
     "data": {
      "application/vnd.jupyter.widget-view+json": {
       "model_id": "8fccb6dfdc2c422cae63860ba753e4f9",
       "version_major": 2,
       "version_minor": 0
      },
      "text/plain": [
       "interactive(children=(Select(description='x', options=('All', 'HK', 'IND', 'UK'), value='All'), Output()), _do…"
      ]
     },
     "metadata": {},
     "output_type": "display_data"
    }
   ],
   "source": [
    "display(x)"
   ]
  },
  {
   "cell_type": "code",
   "execution_count": null,
   "metadata": {},
   "outputs": [],
   "source": []
  }
 ],
 "metadata": {
  "kernelspec": {
   "display_name": "Python 3",
   "language": "python",
   "name": "python3"
  },
  "language_info": {
   "codemirror_mode": {
    "name": "ipython",
    "version": 3
   },
   "file_extension": ".py",
   "mimetype": "text/x-python",
   "name": "python",
   "nbconvert_exporter": "python",
   "pygments_lexer": "ipython3",
   "version": "3.7.2"
  }
 },
 "nbformat": 4,
 "nbformat_minor": 2
}
